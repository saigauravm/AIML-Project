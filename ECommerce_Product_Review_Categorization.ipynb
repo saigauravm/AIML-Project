{
  "cells": [
    {
      "metadata": {
        "id": "ZZYXAAQyPQst"
      },
      "cell_type": "markdown",
      "source": [
        "# Setup and Configuration\n",
        "\n"
      ]
    },
    {
      "metadata": {
        "trusted": true,
        "id": "YzbQ_FJUPQst",
        "colab": {
          "base_uri": "https://localhost:8080/"
        },
        "outputId": "c8712c09-2f7a-48ca-f79c-d56bb757c53d"
      },
      "cell_type": "code",
      "source": [
        "import pandas as pd\n",
        "import numpy as np\n",
        "import matplotlib.pyplot as plt\n",
        "import os\n",
        "import warnings\n",
        "import seaborn as sns\n",
        "warnings.filterwarnings('ignore')\n",
        "\n",
        "from sklearn.feature_extraction.text import TfidfVectorizer\n",
        "from sklearn.linear_model import LogisticRegression\n",
        "from sklearn.metrics import accuracy_score, f1_score, confusion_matrix\n",
        "from sklearn.model_selection import train_test_split\n",
        "import joblib\n",
        "\n",
        "# Check versions to ensure compatibility\n",
        "import sklearn\n",
        "#import eli5\n",
        "\n",
        "print(f\"scikit-learn version: {sklearn.__version__}\")\n",
        "#print(f\"eli5 version: {eli5.__version__}\")\n",
        "\n"
      ],
      "execution_count": null,
      "outputs": [
        {
          "output_type": "stream",
          "name": "stdout",
          "text": [
            "scikit-learn version: 1.3.2\n"
          ]
        }
      ]
    },
    {
      "cell_type": "code",
      "source": [
        "%%writefile kaggle.json\n",
        "{\"username\":\"saigauravm\",\"key\":\"702137b4b541d0249789e8933860e377\"}"
      ],
      "metadata": {
        "colab": {
          "base_uri": "https://localhost:8080/"
        },
        "id": "cZnTyFc0Paqc",
        "outputId": "af8761ed-4466-43a7-e5f0-abde987d0927"
      },
      "execution_count": null,
      "outputs": [
        {
          "output_type": "stream",
          "name": "stdout",
          "text": [
            "Writing kaggle.json\n"
          ]
        }
      ]
    },
    {
      "cell_type": "code",
      "source": [
        "import os\n",
        "\n",
        "def download_kaggle_dataset(dataset_path):\n",
        "    # Kaggle dataset path example: 'grassknoted/asl-alphabet'\n",
        "    # Ensure Kaggle API is installed\n",
        "    os.system('pip install -q kaggle')\n",
        "\n",
        "    # Check for kaggle.json file\n",
        "    if not os.path.isfile('kaggle.json'):\n",
        "        print(\"kaggle.json file not found. Please upload it.\")\n",
        "        return\n",
        "\n",
        "    # Set up Kaggle directory and permissions\n",
        "    os.system('mkdir -p ~/.kaggle')\n",
        "    os.system('cp kaggle.json ~/.kaggle/')\n",
        "    os.system('chmod 600 ~/.kaggle/kaggle.json')\n",
        "\n",
        "    # Download the dataset\n",
        "    os.system(f'kaggle datasets download -d {dataset_path}')\n",
        "\n",
        "    # Unzip the dataset\n",
        "    zip_file = f'{dataset_path.split(\"/\")[-1]}.zip'\n",
        "    os.system(f'unzip -q {zip_file}')\n",
        "\n",
        "# Example Usage:\n",
        "download_kaggle_dataset('bittlingmayer/amazonreviews')\n"
      ],
      "metadata": {
        "id": "4QU-sw-dPbXj"
      },
      "execution_count": null,
      "outputs": []
    },
    {
      "cell_type": "code",
      "source": [
        "# @title Default title text\n",
        "import bz2\n",
        "\n",
        "# Function to extract data from a bz2 file\n",
        "def extract_bz2(file_name):\n",
        "    with bz2.BZ2File(file_name, 'rb') as file:\n",
        "        data = file.readlines()\n",
        "    return data\n",
        "\n",
        "# Extracting the test and train data\n",
        "test_data = extract_bz2('test.ft.txt.bz2')\n",
        "train_data = extract_bz2('train.ft.txt.bz2')\n",
        "\n",
        "# Optionally, converting bytes to strings if the content is textual\n",
        "test_data = [line.decode('utf-8') for line in test_data]\n",
        "train_data = [line.decode('utf-8') for line in train_data]\n",
        "\n",
        "# Example: print the first 5 lines from each dataset\n",
        "print(\"First 5 lines of test data:\")\n",
        "print(test_data[:5])\n",
        "\n",
        "print(\"\\nFirst 5 lines of train data:\")\n",
        "print(train_data[:5])\n"
      ],
      "metadata": {
        "id": "MYVRG1tHQJir",
        "colab": {
          "base_uri": "https://localhost:8080/"
        },
        "outputId": "b98529cb-64ac-4970-f9e6-cc6c799814fb"
      },
      "execution_count": null,
      "outputs": [
        {
          "output_type": "stream",
          "name": "stdout",
          "text": [
            "First 5 lines of test data:\n",
            "['__label__2 Great CD: My lovely Pat has one of the GREAT voices of her generation. I have listened to this CD for YEARS and I still LOVE IT. When I\\'m in a good mood it makes me feel better. A bad mood just evaporates like sugar in the rain. This CD just oozes LIFE. Vocals are jusat STUUNNING and lyrics just kill. One of life\\'s hidden gems. This is a desert isle CD in my book. Why she never made it big is just beyond me. Everytime I play this, no matter black, white, young, old, male, female EVERYBODY says one thing \"Who was that singing ?\"\\n', \"__label__2 One of the best game music soundtracks - for a game I didn't really play: Despite the fact that I have only played a small portion of the game, the music I heard (plus the connection to Chrono Trigger which was great as well) led me to purchase the soundtrack, and it remains one of my favorite albums. There is an incredible mix of fun, epic, and emotional songs. Those sad and beautiful tracks I especially like, as there's not too many of those kinds of songs in my other video game soundtracks. I must admit that one of the songs (Life-A Distant Promise) has brought tears to my eyes on many occasions.My one complaint about this soundtrack is that they use guitar fretting effects in many of the songs, which I find distracting. But even if those weren't included I would still consider the collection worth it.\\n\", '__label__1 Batteries died within a year ...: I bought this charger in Jul 2003 and it worked OK for a while. The design is nice and convenient. However, after about a year, the batteries would not hold a charge. Might as well just get alkaline disposables, or look elsewhere for a charger that comes with batteries that have better staying power.\\n', \"__label__2 works fine, but Maha Energy is better: Check out Maha Energy's website. Their Powerex MH-C204F charger works in 100 minutes for rapid charge, with option for slower charge (better for batteries). And they have 2200 mAh batteries.\\n\", \"__label__2 Great for the non-audiophile: Reviewed quite a bit of the combo players and was hesitant due to unfavorable reviews and size of machines. I am weaning off my VHS collection, but don't want to replace them with DVD's. This unit is well built, easy to setup and resolution and special effects (no progressive scan for HDTV owners) suitable for many people looking for a versatile product.Cons- No universal remote.\\n\"]\n",
            "\n",
            "First 5 lines of train data:\n",
            "['__label__2 Stuning even for the non-gamer: This sound track was beautiful! It paints the senery in your mind so well I would recomend it even to people who hate vid. game music! I have played the game Chrono Cross but out of all of the games I have ever played it has the best music! It backs away from crude keyboarding and takes a fresher step with grate guitars and soulful orchestras. It would impress anyone who cares to listen! ^_^\\n', \"__label__2 The best soundtrack ever to anything.: I'm reading a lot of reviews saying that this is the best 'game soundtrack' and I figured that I'd write a review to disagree a bit. This in my opinino is Yasunori Mitsuda's ultimate masterpiece. The music is timeless and I'm been listening to it for years now and its beauty simply refuses to fade.The price tag on this is pretty staggering I must say, but if you are going to buy any cd for this much money, this is the only one that I feel would be worth every penny.\\n\", '__label__2 Amazing!: This soundtrack is my favorite music of all time, hands down. The intense sadness of \"Prisoners of Fate\" (which means all the more if you\\'ve played the game) and the hope in \"A Distant Promise\" and \"Girl who Stole the Star\" have been an important inspiration to me personally throughout my teen years. The higher energy tracks like \"Chrono Cross ~ Time\\'s Scar~\", \"Time of the Dreamwatch\", and \"Chronomantique\" (indefinably remeniscent of Chrono Trigger) are all absolutely superb as well.This soundtrack is amazing music, probably the best of this composer\\'s work (I haven\\'t heard the Xenogears soundtrack, so I can\\'t say for sure), and even if you\\'ve never played the game, it would be worth twice the price to buy it.I wish I could give it 6 stars.\\n', \"__label__2 Excellent Soundtrack: I truly like this soundtrack and I enjoy video game music. I have played this game and most of the music on here I enjoy and it's truly relaxing and peaceful.On disk one. my favorites are Scars Of Time, Between Life and Death, Forest Of Illusion, Fortress of Ancient Dragons, Lost Fragment, and Drowned Valley.Disk Two: The Draggons, Galdorb - Home, Chronomantique, Prisoners of Fate, Gale, and my girlfriend likes ZelbessDisk Three: The best of the three. Garden Of God, Chronopolis, Fates, Jellyfish sea, Burning Orphange, Dragon's Prayer, Tower Of Stars, Dragon God, and Radical Dreamers - Unstealable Jewel.Overall, this is a excellent soundtrack and should be brought by those that like video game music.Xander Cross\\n\", \"__label__2 Remember, Pull Your Jaw Off The Floor After Hearing it: If you've played the game, you know how divine the music is! Every single song tells a story of the game, it's that good! The greatest songs are without a doubt, Chrono Cross: Time's Scar, Magical Dreamers: The Wind, The Stars, and the Sea and Radical Dreamers: Unstolen Jewel. (Translation varies) This music is perfect if you ask me, the best it can be. Yasunori Mitsuda just poured his heart on and wrote it down on paper.\\n\"]\n"
          ]
        }
      ]
    },
    {
      "cell_type": "code",
      "source": [
        "import bz2\n",
        "import re\n",
        "import pandas as pd\n",
        "\n",
        "\n",
        "def process_amazon_reviews(file_name):\n",
        "    with bz2.BZ2File(file_name, 'rb') as file:\n",
        "        lines = [x.decode('utf-8') for x in file.readlines()]\n",
        "        labels = [0 if line.split(' ')[0] == '__label__1' else 1 for line in lines]\n",
        "        sentences = [line.split(' ', 1)[1].lower() for line in lines]\n",
        "        for i in range(len(sentences)):\n",
        "            sentences[i] = re.sub('\\d', '0', sentences[i])\n",
        "            if any(substring in sentences[i] for substring in ['www.', 'http:', 'https:', '.com']):\n",
        "                sentences[i] = re.sub(r\"([^ ]+(?<=\\.[a-z]{3}))\", \"<url>\", sentences[i])\n",
        "    return labels, sentences\n",
        "\n",
        "\n",
        "train_labels, train_sentences = process_amazon_reviews('train.ft.txt.bz2')\n",
        "test_labels, test_sentences = process_amazon_reviews('test.ft.txt.bz2')\n",
        "\n",
        "\n",
        "\n"
      ],
      "metadata": {
        "id": "zSRh5F26S7Ex"
      },
      "execution_count": null,
      "outputs": []
    },
    {
      "cell_type": "code",
      "source": [
        "train_df = pd.DataFrame({'labels': train_labels, 'sentences': train_sentences})\n",
        "test_df = pd.DataFrame({'labels': test_labels, 'sentences': test_sentences})\n",
        "\n",
        "train_df.to_csv('amazon_train_reviews.csv', index=False)\n",
        "test_df.to_csv('amazon_test_reviews.csv', index=False)"
      ],
      "metadata": {
        "id": "YoafKnTCoiga"
      },
      "execution_count": null,
      "outputs": []
    },
    {
      "cell_type": "code",
      "source": [
        "train_df.info()"
      ],
      "metadata": {
        "id": "kjFjWcaIfZWO",
        "colab": {
          "base_uri": "https://localhost:8080/"
        },
        "outputId": "ef2a3685-8f24-435d-a2d4-234751f307c7"
      },
      "execution_count": null,
      "outputs": [
        {
          "output_type": "stream",
          "name": "stdout",
          "text": [
            "<class 'pandas.core.frame.DataFrame'>\n",
            "RangeIndex: 3600000 entries, 0 to 3599999\n",
            "Data columns (total 2 columns):\n",
            " #   Column     Dtype \n",
            "---  ------     ----- \n",
            " 0   labels     int64 \n",
            " 1   sentences  object\n",
            "dtypes: int64(1), object(1)\n",
            "memory usage: 54.9+ MB\n"
          ]
        }
      ]
    },
    {
      "metadata": {
        "trusted": true,
        "id": "xhXUSCYMPQsu"
      },
      "cell_type": "code",
      "source": [
        "train_val = pd.read_csv('amazon_train_reviews.csv', index_col=0)\n",
        "train_val.reset_index(drop=True, inplace=True)"
      ],
      "execution_count": null,
      "outputs": []
    },
    {
      "cell_type": "code",
      "source": [
        "train_val = train_df"
      ],
      "metadata": {
        "id": "KknyIFA3ovP9"
      },
      "execution_count": null,
      "outputs": []
    },
    {
      "cell_type": "code",
      "source": [
        "train_val.info()"
      ],
      "metadata": {
        "colab": {
          "base_uri": "https://localhost:8080/"
        },
        "id": "yzX_ttFnNLgK",
        "outputId": "d0d416b8-e50d-4bea-d8c9-0c392bf9140f"
      },
      "execution_count": null,
      "outputs": [
        {
          "output_type": "stream",
          "name": "stdout",
          "text": [
            "<class 'pandas.core.frame.DataFrame'>\n",
            "RangeIndex: 3600000 entries, 0 to 3599999\n",
            "Data columns (total 2 columns):\n",
            " #   Column     Dtype \n",
            "---  ------     ----- \n",
            " 0   labels     int64 \n",
            " 1   sentences  object\n",
            "dtypes: int64(1), object(1)\n",
            "memory usage: 54.9+ MB\n"
          ]
        }
      ]
    },
    {
      "metadata": {
        "id": "ajt-vo9oPQsu"
      },
      "cell_type": "markdown",
      "source": [
        "# EDA"
      ]
    },
    {
      "metadata": {
        "trusted": true,
        "id": "T3pSXd9FPQsu",
        "colab": {
          "base_uri": "https://localhost:8080/",
          "height": 379
        },
        "outputId": "e2a56b27-1f13-476a-8082-cf02189aa860"
      },
      "cell_type": "code",
      "source": [
        "print(train_val.info())\n",
        "display(train_val.head())"
      ],
      "execution_count": null,
      "outputs": [
        {
          "output_type": "stream",
          "name": "stdout",
          "text": [
            "<class 'pandas.core.frame.DataFrame'>\n",
            "RangeIndex: 3600000 entries, 0 to 3599999\n",
            "Data columns (total 2 columns):\n",
            " #   Column     Dtype \n",
            "---  ------     ----- \n",
            " 0   labels     int64 \n",
            " 1   sentences  object\n",
            "dtypes: int64(1), object(1)\n",
            "memory usage: 54.9+ MB\n",
            "None\n"
          ]
        },
        {
          "output_type": "display_data",
          "data": {
            "text/plain": [
              "   labels                                          sentences\n",
              "0       1  stuning even for the non-gamer: this sound tra...\n",
              "1       1  the best soundtrack ever to anything.: i'm rea...\n",
              "2       1  amazing!: this soundtrack is my favorite music...\n",
              "3       1  excellent soundtrack: i truly like this soundt...\n",
              "4       1  remember, pull your jaw off the floor after he..."
            ],
            "text/html": [
              "\n",
              "  <div id=\"df-fb39cec2-ff82-4fb9-bfbf-201ab2fa4aa0\" class=\"colab-df-container\">\n",
              "    <div>\n",
              "<style scoped>\n",
              "    .dataframe tbody tr th:only-of-type {\n",
              "        vertical-align: middle;\n",
              "    }\n",
              "\n",
              "    .dataframe tbody tr th {\n",
              "        vertical-align: top;\n",
              "    }\n",
              "\n",
              "    .dataframe thead th {\n",
              "        text-align: right;\n",
              "    }\n",
              "</style>\n",
              "<table border=\"1\" class=\"dataframe\">\n",
              "  <thead>\n",
              "    <tr style=\"text-align: right;\">\n",
              "      <th></th>\n",
              "      <th>labels</th>\n",
              "      <th>sentences</th>\n",
              "    </tr>\n",
              "  </thead>\n",
              "  <tbody>\n",
              "    <tr>\n",
              "      <th>0</th>\n",
              "      <td>1</td>\n",
              "      <td>stuning even for the non-gamer: this sound tra...</td>\n",
              "    </tr>\n",
              "    <tr>\n",
              "      <th>1</th>\n",
              "      <td>1</td>\n",
              "      <td>the best soundtrack ever to anything.: i'm rea...</td>\n",
              "    </tr>\n",
              "    <tr>\n",
              "      <th>2</th>\n",
              "      <td>1</td>\n",
              "      <td>amazing!: this soundtrack is my favorite music...</td>\n",
              "    </tr>\n",
              "    <tr>\n",
              "      <th>3</th>\n",
              "      <td>1</td>\n",
              "      <td>excellent soundtrack: i truly like this soundt...</td>\n",
              "    </tr>\n",
              "    <tr>\n",
              "      <th>4</th>\n",
              "      <td>1</td>\n",
              "      <td>remember, pull your jaw off the floor after he...</td>\n",
              "    </tr>\n",
              "  </tbody>\n",
              "</table>\n",
              "</div>\n",
              "    <div class=\"colab-df-buttons\">\n",
              "\n",
              "  <div class=\"colab-df-container\">\n",
              "    <button class=\"colab-df-convert\" onclick=\"convertToInteractive('df-fb39cec2-ff82-4fb9-bfbf-201ab2fa4aa0')\"\n",
              "            title=\"Convert this dataframe to an interactive table.\"\n",
              "            style=\"display:none;\">\n",
              "\n",
              "  <svg xmlns=\"http://www.w3.org/2000/svg\" height=\"24px\" viewBox=\"0 -960 960 960\">\n",
              "    <path d=\"M120-120v-720h720v720H120Zm60-500h600v-160H180v160Zm220 220h160v-160H400v160Zm0 220h160v-160H400v160ZM180-400h160v-160H180v160Zm440 0h160v-160H620v160ZM180-180h160v-160H180v160Zm440 0h160v-160H620v160Z\"/>\n",
              "  </svg>\n",
              "    </button>\n",
              "\n",
              "  <style>\n",
              "    .colab-df-container {\n",
              "      display:flex;\n",
              "      gap: 12px;\n",
              "    }\n",
              "\n",
              "    .colab-df-convert {\n",
              "      background-color: #E8F0FE;\n",
              "      border: none;\n",
              "      border-radius: 50%;\n",
              "      cursor: pointer;\n",
              "      display: none;\n",
              "      fill: #1967D2;\n",
              "      height: 32px;\n",
              "      padding: 0 0 0 0;\n",
              "      width: 32px;\n",
              "    }\n",
              "\n",
              "    .colab-df-convert:hover {\n",
              "      background-color: #E2EBFA;\n",
              "      box-shadow: 0px 1px 2px rgba(60, 64, 67, 0.3), 0px 1px 3px 1px rgba(60, 64, 67, 0.15);\n",
              "      fill: #174EA6;\n",
              "    }\n",
              "\n",
              "    .colab-df-buttons div {\n",
              "      margin-bottom: 4px;\n",
              "    }\n",
              "\n",
              "    [theme=dark] .colab-df-convert {\n",
              "      background-color: #3B4455;\n",
              "      fill: #D2E3FC;\n",
              "    }\n",
              "\n",
              "    [theme=dark] .colab-df-convert:hover {\n",
              "      background-color: #434B5C;\n",
              "      box-shadow: 0px 1px 3px 1px rgba(0, 0, 0, 0.15);\n",
              "      filter: drop-shadow(0px 1px 2px rgba(0, 0, 0, 0.3));\n",
              "      fill: #FFFFFF;\n",
              "    }\n",
              "  </style>\n",
              "\n",
              "    <script>\n",
              "      const buttonEl =\n",
              "        document.querySelector('#df-fb39cec2-ff82-4fb9-bfbf-201ab2fa4aa0 button.colab-df-convert');\n",
              "      buttonEl.style.display =\n",
              "        google.colab.kernel.accessAllowed ? 'block' : 'none';\n",
              "\n",
              "      async function convertToInteractive(key) {\n",
              "        const element = document.querySelector('#df-fb39cec2-ff82-4fb9-bfbf-201ab2fa4aa0');\n",
              "        const dataTable =\n",
              "          await google.colab.kernel.invokeFunction('convertToInteractive',\n",
              "                                                    [key], {});\n",
              "        if (!dataTable) return;\n",
              "\n",
              "        const docLinkHtml = 'Like what you see? Visit the ' +\n",
              "          '<a target=\"_blank\" href=https://colab.research.google.com/notebooks/data_table.ipynb>data table notebook</a>'\n",
              "          + ' to learn more about interactive tables.';\n",
              "        element.innerHTML = '';\n",
              "        dataTable['output_type'] = 'display_data';\n",
              "        await google.colab.output.renderOutput(dataTable, element);\n",
              "        const docLink = document.createElement('div');\n",
              "        docLink.innerHTML = docLinkHtml;\n",
              "        element.appendChild(docLink);\n",
              "      }\n",
              "    </script>\n",
              "  </div>\n",
              "\n",
              "\n",
              "<div id=\"df-4fdc41a6-5587-45c8-bed6-93351c236ff7\">\n",
              "  <button class=\"colab-df-quickchart\" onclick=\"quickchart('df-4fdc41a6-5587-45c8-bed6-93351c236ff7')\"\n",
              "            title=\"Suggest charts\"\n",
              "            style=\"display:none;\">\n",
              "\n",
              "<svg xmlns=\"http://www.w3.org/2000/svg\" height=\"24px\"viewBox=\"0 0 24 24\"\n",
              "     width=\"24px\">\n",
              "    <g>\n",
              "        <path d=\"M19 3H5c-1.1 0-2 .9-2 2v14c0 1.1.9 2 2 2h14c1.1 0 2-.9 2-2V5c0-1.1-.9-2-2-2zM9 17H7v-7h2v7zm4 0h-2V7h2v10zm4 0h-2v-4h2v4z\"/>\n",
              "    </g>\n",
              "</svg>\n",
              "  </button>\n",
              "\n",
              "<style>\n",
              "  .colab-df-quickchart {\n",
              "      --bg-color: #E8F0FE;\n",
              "      --fill-color: #1967D2;\n",
              "      --hover-bg-color: #E2EBFA;\n",
              "      --hover-fill-color: #174EA6;\n",
              "      --disabled-fill-color: #AAA;\n",
              "      --disabled-bg-color: #DDD;\n",
              "  }\n",
              "\n",
              "  [theme=dark] .colab-df-quickchart {\n",
              "      --bg-color: #3B4455;\n",
              "      --fill-color: #D2E3FC;\n",
              "      --hover-bg-color: #434B5C;\n",
              "      --hover-fill-color: #FFFFFF;\n",
              "      --disabled-bg-color: #3B4455;\n",
              "      --disabled-fill-color: #666;\n",
              "  }\n",
              "\n",
              "  .colab-df-quickchart {\n",
              "    background-color: var(--bg-color);\n",
              "    border: none;\n",
              "    border-radius: 50%;\n",
              "    cursor: pointer;\n",
              "    display: none;\n",
              "    fill: var(--fill-color);\n",
              "    height: 32px;\n",
              "    padding: 0;\n",
              "    width: 32px;\n",
              "  }\n",
              "\n",
              "  .colab-df-quickchart:hover {\n",
              "    background-color: var(--hover-bg-color);\n",
              "    box-shadow: 0 1px 2px rgba(60, 64, 67, 0.3), 0 1px 3px 1px rgba(60, 64, 67, 0.15);\n",
              "    fill: var(--button-hover-fill-color);\n",
              "  }\n",
              "\n",
              "  .colab-df-quickchart-complete:disabled,\n",
              "  .colab-df-quickchart-complete:disabled:hover {\n",
              "    background-color: var(--disabled-bg-color);\n",
              "    fill: var(--disabled-fill-color);\n",
              "    box-shadow: none;\n",
              "  }\n",
              "\n",
              "  .colab-df-spinner {\n",
              "    border: 2px solid var(--fill-color);\n",
              "    border-color: transparent;\n",
              "    border-bottom-color: var(--fill-color);\n",
              "    animation:\n",
              "      spin 1s steps(1) infinite;\n",
              "  }\n",
              "\n",
              "  @keyframes spin {\n",
              "    0% {\n",
              "      border-color: transparent;\n",
              "      border-bottom-color: var(--fill-color);\n",
              "      border-left-color: var(--fill-color);\n",
              "    }\n",
              "    20% {\n",
              "      border-color: transparent;\n",
              "      border-left-color: var(--fill-color);\n",
              "      border-top-color: var(--fill-color);\n",
              "    }\n",
              "    30% {\n",
              "      border-color: transparent;\n",
              "      border-left-color: var(--fill-color);\n",
              "      border-top-color: var(--fill-color);\n",
              "      border-right-color: var(--fill-color);\n",
              "    }\n",
              "    40% {\n",
              "      border-color: transparent;\n",
              "      border-right-color: var(--fill-color);\n",
              "      border-top-color: var(--fill-color);\n",
              "    }\n",
              "    60% {\n",
              "      border-color: transparent;\n",
              "      border-right-color: var(--fill-color);\n",
              "    }\n",
              "    80% {\n",
              "      border-color: transparent;\n",
              "      border-right-color: var(--fill-color);\n",
              "      border-bottom-color: var(--fill-color);\n",
              "    }\n",
              "    90% {\n",
              "      border-color: transparent;\n",
              "      border-bottom-color: var(--fill-color);\n",
              "    }\n",
              "  }\n",
              "</style>\n",
              "\n",
              "  <script>\n",
              "    async function quickchart(key) {\n",
              "      const quickchartButtonEl =\n",
              "        document.querySelector('#' + key + ' button');\n",
              "      quickchartButtonEl.disabled = true;  // To prevent multiple clicks.\n",
              "      quickchartButtonEl.classList.add('colab-df-spinner');\n",
              "      try {\n",
              "        const charts = await google.colab.kernel.invokeFunction(\n",
              "            'suggestCharts', [key], {});\n",
              "      } catch (error) {\n",
              "        console.error('Error during call to suggestCharts:', error);\n",
              "      }\n",
              "      quickchartButtonEl.classList.remove('colab-df-spinner');\n",
              "      quickchartButtonEl.classList.add('colab-df-quickchart-complete');\n",
              "    }\n",
              "    (() => {\n",
              "      let quickchartButtonEl =\n",
              "        document.querySelector('#df-4fdc41a6-5587-45c8-bed6-93351c236ff7 button');\n",
              "      quickchartButtonEl.style.display =\n",
              "        google.colab.kernel.accessAllowed ? 'block' : 'none';\n",
              "    })();\n",
              "  </script>\n",
              "</div>\n",
              "\n",
              "    </div>\n",
              "  </div>\n"
            ],
            "application/vnd.google.colaboratory.intrinsic+json": {
              "type": "dataframe",
              "summary": "{\n  \"name\": \"display(train_val\",\n  \"rows\": 5,\n  \"fields\": [\n    {\n      \"column\": \"labels\",\n      \"properties\": {\n        \"dtype\": \"number\",\n        \"std\": 0,\n        \"min\": 1,\n        \"max\": 1,\n        \"num_unique_values\": 1,\n        \"samples\": [\n          1\n        ],\n        \"semantic_type\": \"\",\n        \"description\": \"\"\n      }\n    },\n    {\n      \"column\": \"sentences\",\n      \"properties\": {\n        \"dtype\": \"string\",\n        \"num_unique_values\": 5,\n        \"samples\": [\n          \"the best soundtrack ever to anything.: i'm reading a lot of reviews saying that this is the best 'game soundtrack' and i figured that i'd write a review to disagree a bit. this in my opinino is yasunori mitsuda's ultimate masterpiece. the music is timeless and i'm been listening to it for years now and its beauty simply refuses to fade.the price tag on this is pretty staggering i must say, but if you are going to buy any cd for this much money, this is the only one that i feel would be worth every penny.\\n\"\n        ],\n        \"semantic_type\": \"\",\n        \"description\": \"\"\n      }\n    }\n  ]\n}"
            }
          },
          "metadata": {}
        }
      ]
    },
    {
      "cell_type": "code",
      "source": [
        "# prompt: train_val['labels'].value_count()\n",
        "\n",
        "print(train_val['labels'].value_counts())\n"
      ],
      "metadata": {
        "id": "gt69PWOFppzR",
        "colab": {
          "base_uri": "https://localhost:8080/"
        },
        "outputId": "b6789fdc-f44f-419b-de97-5613d1fcba61"
      },
      "execution_count": null,
      "outputs": [
        {
          "output_type": "stream",
          "name": "stdout",
          "text": [
            "labels\n",
            "1    1800000\n",
            "0    1800000\n",
            "Name: count, dtype: int64\n"
          ]
        }
      ]
    },
    {
      "metadata": {
        "id": "cCrpnk7NPQsv"
      },
      "cell_type": "markdown",
      "source": [
        "We have 0 Null value and now let's look at target distribution"
      ]
    },
    {
      "metadata": {
        "trusted": true,
        "id": "RMWvGD1YPQsv"
      },
      "cell_type": "code",
      "source": [
        "#sns.countplot(train_df['labels']);\n",
        "#plt.title('Labels distribution');"
      ],
      "execution_count": null,
      "outputs": []
    },
    {
      "metadata": {
        "id": "Z-OKGwN3PQsv"
      },
      "cell_type": "markdown",
      "source": [
        "Let’s count number of words and see it distribution"
      ]
    },
    {
      "metadata": {
        "trusted": true,
        "id": "pE2l757rPQsv",
        "colab": {
          "base_uri": "https://localhost:8080/",
          "height": 449
        },
        "outputId": "41e5f41d-dfbd-491d-d66f-76a015473e30"
      },
      "cell_type": "code",
      "source": [
        "train_val['len'] = train_val['sentences'].apply(lambda x: len(x.split()))\n",
        "sns.distplot(train_val['len']);"
      ],
      "execution_count": null,
      "outputs": [
        {
          "output_type": "display_data",
          "data": {
            "text/plain": [
              "<Figure size 640x480 with 1 Axes>"
            ],
            "image/png": "[encoded data removed]"
          },
          "metadata": {}
        }
      ]
    },
    {
      "metadata": {
        "id": "S85PL-kJPQsw"
      },
      "cell_type": "markdown",
      "source": [
        "Now we’ll divide it by sentiment and calculate average values"
      ]
    },
    {
      "metadata": {
        "trusted": true,
        "id": "p15gisHfPQsw",
        "colab": {
          "base_uri": "https://localhost:8080/",
          "height": 558
        },
        "outputId": "c86aee6a-e843-452a-9b0b-63c527234a6f"
      },
      "cell_type": "code",
      "source": [
        "neg_mean_len = train_val.groupby('labels')['len'].mean().values[0]\n",
        "pos_mean_len = train_val.groupby('labels')['len'].mean().values[1]\n",
        "\n",
        "print(f\"Negative mean length: {neg_mean_len:.2f}\")\n",
        "print(f\"Positive mean length: {pos_mean_len:.2f}\")\n",
        "print(f\"Mean Difference: {neg_mean_len-pos_mean_len:.2f}\")\n",
        "ax = sns.catplot(x='labels', y='len', data=train_val, kind='box')"
      ],
      "execution_count": null,
      "outputs": [
        {
          "output_type": "stream",
          "name": "stdout",
          "text": [
            "Negative mean length: 81.50\n",
            "Positive mean length: 75.46\n",
            "Mean Difference: 6.04\n"
          ]
        },
        {
          "output_type": "display_data",
          "data": {
            "text/plain": [
              "<Figure size 511.111x500 with 1 Axes>"
            ],
            "image/png": "[encoded data removed]"
          },
          "metadata": {}
        }
      ]
    },
    {
      "metadata": {
        "id": "42O9rBhMPQsw"
      },
      "cell_type": "markdown",
      "source": [
        "We can see that negative sentences are longer on average. To say how significant this difference, we use permutation testing and calculate p-value.\n",
        "\n",
        "First, we define a function to generate a permutation sample from two arrays. Then, we generate permutation replicates, which are a single statistic computed from permutation sample. Last, we compute the probability of getting at least 5.91 difference in mean under the hypothesis that the distributions of words are identical."
      ]
    },
    {
      "metadata": {
        "trusted": true,
        "id": "nhL2L1euPQsw"
      },
      "cell_type": "code",
      "source": [
        "neg_array = train_val[train_val['labels']==0]['len'].values\n",
        "pos_array = train_val[train_val['labels']==1]['len'].values\n",
        "mean_diff = neg_mean_len - pos_mean_len"
      ],
      "execution_count": null,
      "outputs": []
    },
    {
      "metadata": {
        "trusted": true,
        "id": "TnCu2DZTPQsw"
      },
      "cell_type": "code",
      "source": [
        "def permutation_sample(data1, data2):\n",
        "    # Permute the concatenated array: permuted_data\n",
        "    data = np.concatenate((data1,data2))\n",
        "    permuted_data = np.random.permutation(data)\n",
        "\n",
        "    # Split the permuted array into two: perm_sample_1, perm_sample_2\n",
        "    perm_sample_1 = permuted_data[:len(data1)]\n",
        "    perm_sample_2 = permuted_data[len(data1):]\n",
        "\n",
        "    return perm_sample_1, perm_sample_2"
      ],
      "execution_count": null,
      "outputs": []
    },
    {
      "metadata": {
        "trusted": true,
        "id": "HTzzmwDsPQsw"
      },
      "cell_type": "code",
      "source": [
        "def draw_perm_reps(data_1, data_2, size=1):\n",
        "\n",
        "    perm_replicates = np.empty(size)\n",
        "\n",
        "    for i in range(size):\n",
        "        # Generate permutation sample\n",
        "        perm_sample_1, perm_sample_2 = permutation_sample(data_1, data_2)\n",
        "\n",
        "        # Compute the test statistic\n",
        "        perm_replicates[i] = np.mean(perm_sample_1) - np.mean(perm_sample_2)\n",
        "\n",
        "    return perm_replicates"
      ],
      "execution_count": null,
      "outputs": []
    },
    {
      "metadata": {
        "trusted": true,
        "id": "V1hmdiEbPQsw",
        "colab": {
          "base_uri": "https://localhost:8080/"
        },
        "outputId": "f23d2c3b-35eb-4f5f-ee8a-f9bb60011d9b"
      },
      "cell_type": "code",
      "source": [
        "perm_replicates = draw_perm_reps(neg_array, pos_array,\n",
        "                                 size=10000)\n",
        "\n",
        "# Compute p-value: p\n",
        "p = np.sum(perm_replicates >= mean_diff) / len(perm_replicates)\n",
        "\n",
        "print(f'p-value = {p}')"
      ],
      "execution_count": null,
      "outputs": [
        {
          "output_type": "stream",
          "name": "stdout",
          "text": [
            "p-value = 0.0\n"
          ]
        }
      ]
    },
    {
      "cell_type": "code",
      "source": [
        "import numpy as np\n",
        "from multiprocessing import Pool\n",
        "\n",
        "def draw_perm_reps(data_1, data_2, start, end):\n",
        "    np.random.seed()  # Important for parallel processing\n",
        "    size = end - start\n",
        "    perm_replicates = np.empty(size)\n",
        "\n",
        "    for i in range(size):\n",
        "        perm_sample_1, perm_sample_2 = permutation_sample(data_1, data_2)\n",
        "        perm_replicates[i] = np.mean(perm_sample_1) - np.mean(perm_sample_2)\n",
        "\n",
        "    return perm_replicates\n",
        "\n",
        "def permutation_sample(data1, data2):\n",
        "    data = np.concatenate((data1, data2))\n",
        "    permuted_data = np.random.permutation(data)\n",
        "    perm_sample_1 = permuted_data[:len(data1)]\n",
        "    perm_sample_2 = permuted_data[len(data1):]\n",
        "    return perm_sample_1, perm_sample_2\n",
        "\n",
        "# Using multiprocessing to speed up the permutation test\n",
        "def parallel_permutation_test(neg_array, pos_array, mean_diff, size=10000, num_processes=4):\n",
        "    pool = Pool(num_processes)\n",
        "    chunk_size = size // num_processes\n",
        "    ranges = [(i * chunk_size, (i + 1) * chunk_size) for i in range(num_processes)]\n",
        "\n",
        "    results = pool.starmap(draw_perm_reps, [(neg_array, pos_array, start, end) for start, end in ranges])\n",
        "    pool.close()\n",
        "    pool.join()\n",
        "\n",
        "    perm_replicates = np.concatenate(results)\n",
        "    p = np.sum(perm_replicates >= mean_diff) / len(perm_replicates)\n",
        "    return p\n",
        "\n",
        "# Compute p-value using parallel processing\n",
        "p_value = parallel_permutation_test(neg_array, pos_array, mean_diff, size=10000, num_processes=400)\n",
        "print(f'p-value = {p_value}')\n"
      ],
      "metadata": {
        "id": "_VogXXgPvMG6"
      },
      "execution_count": null,
      "outputs": []
    },
    {
      "cell_type": "code",
      "source": [
        "# Assuming perm_replicates is already computed\n",
        "np.save('perm_replicates.npy', perm_replicates)\n",
        "from IPython.display import FileLink\n",
        "FileLink('perm_replicates.npy')\n"
      ],
      "metadata": {
        "id": "EjOIbEs9vCtU"
      },
      "execution_count": null,
      "outputs": []
    },
    {
      "metadata": {
        "id": "jpkixHXBPQsx"
      },
      "cell_type": "markdown",
      "source": [
        "The p-value tells us that the null hypothesis is false."
      ]
    },
    {
      "metadata": {
        "id": "A4RiOnDkPQsx"
      },
      "cell_type": "markdown",
      "source": [
        "# Baseline - LogReg (Tf-Idf)"
      ]
    },
    {
      "metadata": {
        "id": "DL6ebj4GPQsx"
      },
      "cell_type": "markdown",
      "source": [
        "Our baseline will be Logistic Regression with Tf-Idf. First, we define a function for prediction, which calculates accuracy, f1_score, confusion matrix and saves our model."
      ]
    },
    {
      "metadata": {
        "trusted": true,
        "id": "ZIp_xW8kPQsx"
      },
      "cell_type": "code",
      "source": [
        "def prediction(model, X_train, y_train, X_valid, y_valid):\n",
        "    model.fit(X_train, y_train)\n",
        "    pred = model.predict(X_valid)\n",
        "    acc = accuracy_score(y_valid, pred)\n",
        "    f1 = f1_score(y_valid, pred)\n",
        "    conf = confusion_matrix(y_valid, pred)\n",
        "    joblib.dump(model, f\"model_acc_{acc:.5f}.pkl\")\n",
        "    return model, acc, f1, conf"
      ],
      "execution_count": null,
      "outputs": []
    },
    {
      "metadata": {
        "id": "q21Hs9b7PQsx"
      },
      "cell_type": "markdown",
      "source": [
        "Extracting unigrams, bigrams and trigrams, also removing stopwords."
      ]
    },
    {
      "metadata": {
        "trusted": true,
        "id": "96egNzVkPQsx"
      },
      "cell_type": "code",
      "source": [
        "transformer = TfidfVectorizer(stop_words='english', ngram_range=(1, 3),\n",
        "                              lowercase=True, max_features=100000)\n",
        "X = transformer.fit_transform(train_val['sentences'])\n",
        "y = train_val.labels"
      ],
      "execution_count": null,
      "outputs": []
    },
    {
      "metadata": {
        "trusted": true,
        "id": "GK5xZlvUPQsx"
      },
      "cell_type": "code",
      "source": [
        "X_train, X_valid, y_train, y_valid = train_test_split(X, y, test_size=0.2,\n",
        "                                                      random_state=42, stratify=y)\n",
        "model = LogisticRegression(C=1, random_state=42, n_jobs=-1)\n",
        "fit_model, acc, f1, conf = prediction(model, X_train, y_train, X_valid, y_valid)"
      ],
      "execution_count": null,
      "outputs": []
    },
    {
      "metadata": {
        "trusted": true,
        "id": "MVToGKgmPQsx"
      },
      "cell_type": "code",
      "source": [
        "print(f\"Accuracy: {acc:.5f}\")\n",
        "print(f\"F1_Score: {f1:.5f}\")\n",
        "print(f\"Confusion Matrix: {conf}\")"
      ],
      "execution_count": null,
      "outputs": []
    },
    {
      "metadata": {
        "id": "QjnfTvVmPQsx"
      },
      "cell_type": "markdown",
      "source": [
        "Interpreting model weights with ELI5."
      ]
    },
    {
      "metadata": {
        "trusted": true,
        "id": "7UJtn5hdPQsx"
      },
      "cell_type": "code",
      "source": [
        "eli5.show_weights(estimator=fit_model,\n",
        "                  feature_names= list(transformer.get_feature_names()),\n",
        "                    top=(20,20))"
      ],
      "execution_count": null,
      "outputs": []
    },
    {
      "metadata": {
        "id": "MhvjdUfYPQsx"
      },
      "cell_type": "markdown",
      "source": [
        "# DistilBert"
      ]
    },
    {
      "metadata": {
        "id": "dy7rKPoIPQsx"
      },
      "cell_type": "markdown",
      "source": [
        "Here we'll use DistilBert from [transformers](https://huggingface.co/transformers/index.html). And [catalyst](https://github.com/catalyst-team/catalyst) for running experiment.\n",
        "\n",
        "First, we install torch nightly for Mixed-precision training."
      ]
    },
    {
      "metadata": {
        "trusted": true,
        "_kg_hide-output": true,
        "id": "ri5is47QPQsx"
      },
      "cell_type": "code",
      "source": [
        "!pip install --pre torch==1.7.0.dev20200701+cu101 torchvision==0.8.0.dev20200701+cu101 -f https://download.pytorch.org/whl/nightly/cu101/torch_nightly.html\n",
        "import torch\n",
        "torch.__version__"
      ],
      "execution_count": null,
      "outputs": []
    },
    {
      "metadata": {
        "trusted": true,
        "id": "2sRuiEDTPQsy"
      },
      "cell_type": "code",
      "source": [
        "import os\n",
        "os.environ['WANDB_SILENT'] = 'True'\n",
        "os.environ['CUDA_VISIBLE_DEVICES'] = \"0\"\n",
        "\n",
        "from typing import Mapping, List\n",
        "from tqdm import tqdm\n",
        "import warnings\n",
        "warnings.filterwarnings('ignore')\n",
        "\n",
        "import numpy as np\n",
        "import pandas as pd\n",
        "from sklearn.model_selection import train_test_split\n",
        "\n",
        "import torch.nn as nn\n",
        "from torch.utils.data import Dataset, DataLoader\n",
        "import torch.nn.functional as F\n",
        "\n",
        "from transformers import AutoConfig, AutoTokenizer, AutoModel\n",
        "\n",
        "from catalyst.dl import SupervisedRunner\n",
        "from catalyst.dl.callbacks import AccuracyCallback, OptimizerCallback, CheckpointCallback, WandbLogger\n",
        "from catalyst.utils import set_global_seed, prepare_cudnn\n",
        "from catalyst.contrib.nn import RAdam, Lookahead, OneCycleLRWithWarmup\n",
        "import wandb"
      ],
      "execution_count": null,
      "outputs": []
    },
    {
      "metadata": {
        "id": "XKOG5SxwPQsy"
      },
      "cell_type": "markdown",
      "source": [
        "Config setup"
      ]
    },
    {
      "metadata": {
        "trusted": true,
        "id": "jo9XTOYQPQsy"
      },
      "cell_type": "code",
      "source": [
        "MODEL_NAME = 'distilbert-base-uncased'\n",
        "LOG_DIR = \"./amazon\"\n",
        "NUM_EPOCHS = 2\n",
        "LEARNING_RATE = 5e-5\n",
        "MAX_SEQ_LENGTH = 512\n",
        "BATCH_SIZE = 32\n",
        "WEIGHT_DECAY = 1e-3\n",
        "ACCUMULATION_STEPS = 3\n",
        "SEED = 42\n",
        "FP_16 = dict(opt_level=\"O1\")"
      ],
      "execution_count": null,
      "outputs": []
    },
    {
      "metadata": {
        "id": "wfLAVTsqPQsy"
      },
      "cell_type": "markdown",
      "source": [
        "For reproducibility"
      ]
    },
    {
      "metadata": {
        "trusted": true,
        "id": "kGpZlg9BPQsy"
      },
      "cell_type": "code",
      "source": [
        "set_global_seed(SEED)\n",
        "prepare_cudnn(deterministic=True, benchmark=True)"
      ],
      "execution_count": null,
      "outputs": []
    },
    {
      "metadata": {
        "id": "iC6Pedk2PQsy"
      },
      "cell_type": "markdown",
      "source": [
        "We'll create dataset. Instantiate tokenizer. Then, we convert tokens to integers, add special tokens, use padding to max_length. Return `'input_ids', 'attention_mask', 'targets'`"
      ]
    },
    {
      "metadata": {
        "trusted": true,
        "id": "ky13MR7zPQsy"
      },
      "cell_type": "code",
      "source": [
        "class ReviewDataset(Dataset):\n",
        "\n",
        "\n",
        "    def __init__(self,\n",
        "                 sentences: List[str],\n",
        "                 labels: List[str] = None,\n",
        "                 max_seq_length: int = MAX_SEQ_LENGTH,\n",
        "                 model_name: str = 'distilbert-base-uncased'):\n",
        "\n",
        "        self.sentences = sentences\n",
        "        self.labels = labels\n",
        "        self.max_seq_length = max_seq_length\n",
        "\n",
        "        self.tokenizer = AutoTokenizer.from_pretrained(model_name)\n",
        "\n",
        "\n",
        "    def __len__(self):\n",
        "\n",
        "        return len(self.sentences)\n",
        "\n",
        "\n",
        "    def __getitem__(self, index) -> Mapping[str, torch.Tensor]:\n",
        "\n",
        "        sentence = self.sentences[index]\n",
        "        encoded = self.tokenizer.encode_plus(sentence, add_special_tokens=True,\n",
        "                                        pad_to_max_length=True, max_length=self.max_seq_length,\n",
        "                                        return_tensors=\"pt\",)\n",
        "\n",
        "        output = {\n",
        "            'input_ids': encoded['input_ids'],\n",
        "            'attention_mask': encoded['attention_mask']\n",
        "        }\n",
        "\n",
        "        output['targets'] = torch.tensor(self.labels[index], dtype=torch.long)\n",
        "\n",
        "        return output"
      ],
      "execution_count": null,
      "outputs": []
    },
    {
      "metadata": {
        "id": "HicLMzx3PQsy"
      },
      "cell_type": "markdown",
      "source": [
        "Making train_test_split, defining datasets and loaders"
      ]
    },
    {
      "metadata": {
        "trusted": true,
        "id": "VlIh9gtCPQs1"
      },
      "cell_type": "code",
      "source": [
        "df_train, df_valid = train_test_split(\n",
        "            train_val,\n",
        "            test_size=0.2,\n",
        "            random_state=42,\n",
        "            stratify = train_val.labels.values\n",
        "        )\n",
        "print(df_train.shape, df_valid.shape)"
      ],
      "execution_count": null,
      "outputs": []
    },
    {
      "metadata": {
        "trusted": true,
        "_kg_hide-output": true,
        "id": "OrFAps7QPQs2"
      },
      "cell_type": "code",
      "source": [
        "train_dataset = ReviewDataset(\n",
        "    sentences=df_train['sentences'].values.tolist(),\n",
        "    labels=df_train['labels'].values,\n",
        "    max_seq_length=MAX_SEQ_LENGTH,\n",
        "    model_name=MODEL_NAME\n",
        ")\n",
        "\n",
        "valid_dataset = ReviewDataset(\n",
        "    sentences=df_valid['sentences'].values.tolist(),\n",
        "    labels=df_valid['labels'].values,\n",
        "    max_seq_length=MAX_SEQ_LENGTH,\n",
        "    model_name=MODEL_NAME\n",
        ")"
      ],
      "execution_count": null,
      "outputs": []
    },
    {
      "metadata": {
        "trusted": true,
        "id": "Yw1jZ4LKPQs2"
      },
      "cell_type": "code",
      "source": [
        "train_val_loaders = {\n",
        "    \"train\": DataLoader(dataset=train_dataset,\n",
        "                        batch_size=BATCH_SIZE,\n",
        "                        shuffle=True, num_workers=2, pin_memory=True),\n",
        "    \"valid\": DataLoader(dataset=valid_dataset,\n",
        "                        batch_size=BATCH_SIZE,\n",
        "                        shuffle=False, num_workers=2, pin_memory=True)\n",
        "}"
      ],
      "execution_count": null,
      "outputs": []
    },
    {
      "metadata": {
        "id": "FKkdc1m6PQs2"
      },
      "cell_type": "markdown",
      "source": [
        "Review and model input"
      ]
    },
    {
      "metadata": {
        "trusted": true,
        "id": "1jf2aLy0PQs2"
      },
      "cell_type": "code",
      "source": [
        "print(df_valid.sentences.values[50])\n",
        "valid_dataset[50]"
      ],
      "execution_count": null,
      "outputs": []
    },
    {
      "metadata": {
        "id": "8PuhEEq6PQs2"
      },
      "cell_type": "markdown",
      "source": [
        "Initialize pre-trained model. From config we'll use dimensionality of the encoder layers and the pooler layer = 768. And dropout probabilities = 0.2. Then, we'll compute logits for the input sequence."
      ]
    },
    {
      "metadata": {
        "trusted": true,
        "id": "H0kgnRfjPQs2"
      },
      "cell_type": "code",
      "source": [
        "class DistilBert(nn.Module):\n",
        "\n",
        "    def __init__(self, pretrained_model_name: str = MODEL_NAME, num_classes: int = 2):\n",
        "\n",
        "        super().__init__()\n",
        "\n",
        "        config = AutoConfig.from_pretrained(\n",
        "             pretrained_model_name)\n",
        "\n",
        "        self.distilbert = AutoModel.from_pretrained(pretrained_model_name,\n",
        "                                                    config=config)\n",
        "        self.pre_classifier = nn.Linear(config.dim, config.dim)\n",
        "        self.classifier = nn.Linear(config.dim, num_classes)\n",
        "        self.dropout = nn.Dropout(config.seq_classif_dropout)\n",
        "\n",
        "    def forward(self, input_ids, attention_mask=None, head_mask=None):\n",
        "\n",
        "        assert attention_mask is not None, \"attention mask is none\"\n",
        "        distilbert_output = self.distilbert(input_ids=input_ids,\n",
        "                                            attention_mask=attention_mask,\n",
        "                                            head_mask=head_mask)\n",
        "        hidden_state = distilbert_output[0]  # [BATCH_SIZE=32, MAX_SEQ_LENGTH = 512, DIM = 768]\n",
        "        pooled_output = hidden_state[:, 0]  # [32, 768]\n",
        "        pooled_output = self.pre_classifier(pooled_output)  # [32, 768]\n",
        "        pooled_output = F.relu(pooled_output)  # [32, 768]\n",
        "        pooled_output = self.dropout(pooled_output)  # [32, 768]\n",
        "        logits = self.classifier(pooled_output)  # [32, 2]\n",
        "\n",
        "        return logits"
      ],
      "execution_count": null,
      "outputs": []
    },
    {
      "metadata": {
        "trusted": true,
        "_kg_hide-output": true,
        "id": "kLYOl62TPQs2"
      },
      "cell_type": "code",
      "source": [
        "model = DistilBert()"
      ],
      "execution_count": null,
      "outputs": []
    },
    {
      "metadata": {
        "id": "5AUXkK-2PQs2"
      },
      "cell_type": "markdown",
      "source": [
        "Training setup:\n",
        "\n",
        "1. We'll apply weight decay for all parameters except 'bias' and 'LayerNorm'\n",
        "1. Lookahead optimizer(improves the learning stability and lowers the variance of its inner optimizer)\n",
        "1. OneCycleLRWithWarmup with 0 warmup steps, cosine annealing from 5e-5 to 1e-8.\n",
        "1. Gradient accumulation for large batch training."
      ]
    },
    {
      "metadata": {
        "trusted": true,
        "id": "jVyZrNUyPQs3"
      },
      "cell_type": "code",
      "source": [
        "param_optim = list(model.named_parameters())\n",
        "no_decay = ['bias', 'LayerNorm.bias', 'LayerNorm.weight']"
      ],
      "execution_count": null,
      "outputs": []
    },
    {
      "metadata": {
        "trusted": true,
        "id": "TsjSmif7PQs3"
      },
      "cell_type": "code",
      "source": [
        "criterion = nn.CrossEntropyLoss()\n",
        "\n",
        "base_optimizer = RAdam([\n",
        "    {'params': [p for n,p in param_optim if not any(nd in n for nd in no_decay)],\n",
        "     'weight_decay': WEIGHT_DECAY},\n",
        "    {'params': [p for n,p in param_optim if any(nd in n for nd in no_decay)],\n",
        "     'weight_decay': 0.0}\n",
        "])\n",
        "optimizer = Lookahead(base_optimizer)\n",
        "scheduler = OneCycleLRWithWarmup(\n",
        "    optimizer,\n",
        "    num_steps=NUM_EPOCHS,\n",
        "    lr_range=(LEARNING_RATE, 1e-8),\n",
        "    init_lr=LEARNING_RATE,\n",
        "    warmup_steps=0,\n",
        ")"
      ],
      "execution_count": null,
      "outputs": []
    },
    {
      "metadata": {
        "trusted": true,
        "id": "LEqYBixuPQs3"
      },
      "cell_type": "code",
      "source": [
        "runner = SupervisedRunner(\n",
        "    input_key=(\n",
        "        \"input_ids\",\n",
        "        \"attention_mask\"\n",
        "    )\n",
        ")\n",
        "# model training\n",
        "runner.train(\n",
        "    model=model,\n",
        "    criterion=criterion,\n",
        "    optimizer=optimizer,\n",
        "    scheduler=scheduler,\n",
        "    loaders=train_val_loaders,\n",
        "    callbacks=[\n",
        "        AccuracyCallback(num_classes=2),\n",
        "        OptimizerCallback(accumulation_steps=ACCUMULATION_STEPS),\n",
        "        WandbLogger(name=\"Name\", project=\"sentiment-analysis\"),\n",
        "    ],\n",
        "    fp16=FP_16,\n",
        "    logdir=LOG_DIR,\n",
        "    num_epochs=NUM_EPOCHS,\n",
        "    verbose=True\n",
        ")"
      ],
      "execution_count": null,
      "outputs": []
    },
    {
      "metadata": {
        "id": "u0Po1ktdPQs3"
      },
      "cell_type": "markdown",
      "source": [
        "![](https://i.ibb.co/9wxK0Zz/Val-Metric.png)"
      ]
    },
    {
      "metadata": {
        "trusted": true,
        "id": "DURQt589PQs3"
      },
      "cell_type": "markdown",
      "source": [
        "After two epochs, we’ll able to reach 96.22% accuracy, which is on 6% higher than logistic regression.\n",
        "\n",
        "To improve our result even more, we can continue fine-tuning with frozen encoder.\n",
        "\n",
        "\n",
        "### Test"
      ]
    },
    {
      "metadata": {
        "trusted": true,
        "id": "Y-vB6GfXPQs3"
      },
      "cell_type": "code",
      "source": [
        "tokenizer = AutoTokenizer.from_pretrained(MODEL_NAME)\n",
        "def prediction(model, sentence: str, max_len: int = 512, device = 'cpu'):\n",
        "    x_encoded = tokenizer.encode_plus(sentence, add_special_tokens=True, pad_to_max_length=True, max_length=max_len, return_tensors=\"pt\",).to(device)\n",
        "    logits = model(x_encoded['input_ids'], x_encoded['attention_mask'])\n",
        "    probabilities = F.softmax(logits.detach(), dim=1)\n",
        "    output = probabilities.max(axis=1)\n",
        "    print(sentence)\n",
        "    print(f\"Class: {['Negative' if output.indices[0] == 0 else 'Positive'][0]}, Probability: {output.values[0]:.4f}\")"
      ],
      "execution_count": null,
      "outputs": []
    },
    {
      "metadata": {
        "trusted": true,
        "id": "gvDSvmM2PQs3"
      },
      "cell_type": "code",
      "source": [
        "prediction(plain_model, df_valid['sentences'].values[20])"
      ],
      "execution_count": null,
      "outputs": []
    },
    {
      "cell_type": "code",
      "source": [
        "aspects = [\n",
        "    \"Product Quality\",\n",
        "    \"Content/Performance\",\n",
        "    \"User Experience\",\n",
        "    \"Value for Money\",\n",
        "    \"Customer Service\",\n",
        "    \"Aesthetics/Design\",\n",
        "    \"Functionality/Features\",\n",
        "    \"Ease of Use/Accessibility\",\n",
        "    \"Durability/Longevity\",\n",
        "    \"Shipping and Packaging\"\n",
        "]"
      ],
      "metadata": {
        "id": "4wWmdCeVVSup"
      },
      "execution_count": null,
      "outputs": []
    },
    {
      "cell_type": "code",
      "source": [
        "def aspect_based_prediction(model, sentences: List[str], aspects: List[str]):\n",
        "    for sentence in sentences:\n",
        "        for aspect in aspects:\n",
        "            aspect_sentence = f\"{aspect} {sentence}\"  # Append aspect to the sentence\n",
        "            prediction(model, aspect_sentence)\n",
        "\n",
        "def prediction(model, sentence: str, max_len: int = 512, device='cpu'):\n",
        "    x_encoded = tokenizer.encode_plus(sentence, add_special_tokens=True, pad_to_max_length=True,\n",
        "                                      max_length=max_len, return_tensors=\"pt\",).to(device)\n",
        "    logits = model(x_encoded['input_ids'], x_encoded['attention_mask'])\n",
        "    probabilities = F.softmax(logits.detach(), dim=1)\n",
        "    output = probabilities.max(axis=1)\n",
        "    print(sentence)\n",
        "    print(f\"Class: {['Negative' if output.indices[0] == 0 else 'Positive'][0]}, Probability: {output.values[0]:.4f}\")"
      ],
      "metadata": {
        "id": "P6HJXqDeU640"
      },
      "execution_count": null,
      "outputs": []
    },
    {
      "cell_type": "code",
      "source": [
        "aspect_based_prediction(model, df_valid['sentences'].values[:20], aspects)"
      ],
      "metadata": {
        "id": "9a0SzlWeVQJx"
      },
      "execution_count": null,
      "outputs": []
    },
    {
      "cell_type": "markdown",
      "source": [
        "Test"
      ],
      "metadata": {
        "id": "anvdq8lDo2lf"
      }
    },
    {
      "cell_type": "code",
      "source": [
        "import torch\n",
        "from transformers import BertTokenizer, BertForSequenceClassification\n",
        "from transformers import pipeline\n",
        "import json\n",
        "\n",
        "# Load the pre-trained BERT model and tokenizer\n",
        "model_name = 'bert-review-sense'  # You can choose other sentiment models\n",
        "tokenizer = BertTokenizer.from_pretrained(model_name)\n",
        "model = BertForSequenceClassification.from_pretrained(model_name)\n",
        "\n",
        "# Sample review text (same as your review)\n",
        "REVIEW = \"\"\"\n",
        "I recently upgraded to the Google Pixel 7 Pro, and my experience has been quite mixed. The display is stunning, and the camera performance is exceptional, capturing detailed photos even in low light. However, the battery life is disappointing and struggles to last a full day with moderate use. There are also occasional stutters and lag when switching between apps. The build quality is solid but the phone is slippery and prone to smudges. While the user interface is clean and intuitive, some pre-installed apps detract from the pure Android experience. The value for money is debatable, given its highs in display and camera but lows in battery and performance, making it a mixed bag for an upgrade.\n",
        "\"\"\"\n",
        "\n",
        "# Pre-process input text for BERT model\n",
        "def analyze_review_with_bert(review_text):\n",
        "    classifier = pipeline('sentiment-analysis', model=model, tokenizer=tokenizer)\n",
        "\n",
        "    # We will analyze individual sentences/aspects from the review\n",
        "    sentences = review_text.split('. ')\n",
        "    aspect_sentiments = []\n",
        "\n",
        "    for sentence in sentences:\n",
        "        # Get sentiment prediction from BERT model\n",
        "        sentiment = classifier(sentence)[0]\n",
        "\n",
        "        # Convert sentiment label to score (assuming scale of -100 to 100)\n",
        "        score = 0\n",
        "        if sentiment['label'] == '1 star':\n",
        "            score = -100\n",
        "        elif sentiment['label'] == '2 stars':\n",
        "            score = -50\n",
        "        elif sentiment['label'] == '3 stars':\n",
        "            score = 0\n",
        "        elif sentiment['label'] == '4 stars':\n",
        "            score = 50\n",
        "        elif sentiment['label'] == '5 stars':\n",
        "            score = 100\n",
        "\n",
        "        aspect_sentiments.append({\n",
        "            \"Sentence\": sentence,\n",
        "            \"Sentiment\": sentiment['label'],\n",
        "            \"Score\": score,\n",
        "            \"Justification\": f\"The sentiment was rated as {sentiment['label']} with a score of {score}.\"\n",
        "        })\n",
        "\n",
        "    return aspect_sentiments\n",
        "\n",
        "def print_analysis(analysis):\n",
        "    divider = \"-\" * 50\n",
        "    for item in analysis:\n",
        "        print(divider)\n",
        "        print(f\"Sentence:      {item['Sentence']}\")\n",
        "        print(f\"Sentiment:     {item['Sentiment']}\")\n",
        "        print(f\"Score:         {item['Score']}\")\n",
        "        print(f\"Justification: {item['Justification']}\")\n",
        "        print(divider)\n",
        "        print()  # Blank line for separation\n",
        "\n",
        "def main():\n",
        "    aspect_analysis = analyze_review_with_bert(REVIEW)\n",
        "    print_analysis(aspect_analysis)\n",
        "\n",
        "if __name__ == \"__main__\":\n",
        "    main()\n"
      ],
      "metadata": {
        "colab": {
          "base_uri": "https://localhost:8080/"
        },
        "id": "2HddwKuVo38L",
        "outputId": "37b069f2-5716-4243-8920-1ccd8953145e"
      },
      "execution_count": 2,
      "outputs": [
        {
          "output_type": "stream",
          "name": "stdout",
          "text": [
            "--------------------------------------------------\n",
            "Aspect:        Product Quality\n",
            "Sentiment:     Mixed\n",
            "Score:         20\n",
            "Justification: The display and camera are praised, but battery life and occasional stutters lower the overall product quality rating.\n",
            "--------------------------------------------------\n",
            "\n",
            "--------------------------------------------------\n",
            "Aspect:        Content/Performance\n",
            "Sentiment:     Negative\n",
            "Score:         -40\n",
            "Justification: Performance issues like stutters and lag while switching between apps are significant drawbacks.\n",
            "--------------------------------------------------\n",
            "\n",
            "--------------------------------------------------\n",
            "Aspect:        User Experience\n",
            "Sentiment:     Mixed\n",
            "Score:         10\n",
            "Justification: While the UI is clean and intuitive, pre-installed apps and performance issues detract from the overall user experience.\n",
            "--------------------------------------------------\n",
            "\n",
            "--------------------------------------------------\n",
            "Aspect:        Value for Money\n",
            "Sentiment:     Negative\n",
            "Score:         -30\n",
            "Justification: The reviewer finds the value for money debatable, especially considering the uneven performance and battery shortcomings.\n",
            "--------------------------------------------------\n",
            "\n",
            "--------------------------------------------------\n",
            "Aspect:        Customer Service\n",
            "Sentiment:     Neutral\n",
            "Score:         0\n",
            "Justification: Customer service was not mentioned in the review.\n",
            "--------------------------------------------------\n",
            "\n",
            "--------------------------------------------------\n",
            "Aspect:        Aesthetics/Design\n",
            "Sentiment:     Mixed\n",
            "Score:         30\n",
            "Justification: Solid build quality but marred by slipperiness and smudges.\n",
            "--------------------------------------------------\n",
            "\n",
            "--------------------------------------------------\n",
            "Aspect:        Functionality/Features\n",
            "Sentiment:     Positive\n",
            "Score:         70\n",
            "Justification: The features like the camera's ability to capture detailed photos in low light are highly praised.\n",
            "--------------------------------------------------\n",
            "\n",
            "--------------------------------------------------\n",
            "Aspect:        Ease of Use/Accessibility\n",
            "Sentiment:     Positive\n",
            "Score:         60\n",
            "Justification: The clean and intuitive user interface adds to the ease of use, despite pre-installed apps being a minor detractor.\n",
            "--------------------------------------------------\n",
            "\n",
            "--------------------------------------------------\n",
            "Aspect:        Durability/Longevity\n",
            "Sentiment:     Mixed\n",
            "Score:         20\n",
            "Justification: Build quality is solid, indicating durability, but performance issues and battery life raise concerns about longevity.\n",
            "--------------------------------------------------\n",
            "\n",
            "--------------------------------------------------\n",
            "Aspect:        Shipping and Packaging\n",
            "Sentiment:     Neutral\n",
            "Score:         0\n",
            "Justification: Shipping and packaging were not mentioned in the review.\n",
            "--------------------------------------------------\n",
            "\n"
          ]
        }
      ]
    },
    {
      "cell_type": "code",
      "source": [],
      "metadata": {
        "id": "1fubwfbEo9Q8"
      },
      "execution_count": 1,
      "outputs": []
    }
  ],
  "metadata": {
    "kernelspec": {
      "name": "python3",
      "display_name": "Python 3"
    },
    "language_info": {
      "name": "python",
      "version": "3.7.6",
      "mimetype": "text/x-python",
      "codemirror_mode": {
        "name": "ipython",
        "version": 3
      },
      "pygments_lexer": "ipython3",
      "nbconvert_exporter": "python",
      "file_extension": ".py"
    },
    "colab": {
      "provenance": [],
      "machine_shape": "hm"
    }
  },
  "nbformat": 4,
  "nbformat_minor": 0
}